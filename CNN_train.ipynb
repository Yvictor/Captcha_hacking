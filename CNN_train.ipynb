{
 "cells": [
  {
   "cell_type": "code",
   "execution_count": 1,
   "metadata": {
    "collapsed": false
   },
   "outputs": [
    {
     "name": "stderr",
     "output_type": "stream",
     "text": [
      "Using Theano backend.\n",
      "Using gpu device 0: GeForce GTX 960 (CNMeM is disabled, CuDNN not available)\n"
     ]
    }
   ],
   "source": [
    "import os\n",
    "import io\n",
    "from PIL import Image as IM\n",
    "from IPython.display import display,Image,clear_output\n",
    "import numpy as np\n",
    "from scipy.misc import toimage\n",
    "import keras\n",
    "from sklearn import preprocessing"
   ]
  },
  {
   "cell_type": "code",
   "execution_count": 2,
   "metadata": {
    "collapsed": true
   },
   "outputs": [],
   "source": [
    "from keras.models import Sequential\n",
    "from keras.layers import Dense, Dropout, Activation, Flatten\n",
    "from keras.layers import Convolution2D, MaxPooling2D\n",
    "from keras.optimizers import SGD\n",
    "from keras.models import model_from_json\n",
    "from keras.utils import np_utils"
   ]
  },
  {
   "cell_type": "code",
   "execution_count": 3,
   "metadata": {
    "collapsed": true
   },
   "outputs": [],
   "source": [
    "%matplotlib inline"
   ]
  },
  {
   "cell_type": "code",
   "execution_count": 56,
   "metadata": {
    "collapsed": false
   },
   "outputs": [],
   "source": [
    "filelist =[i for i in  os.listdir(os.getcwd()+'\\ocrdata') if i.endswith('.png')][5000::4]"
   ]
  },
  {
   "cell_type": "code",
   "execution_count": 57,
   "metadata": {
    "collapsed": false
   },
   "outputs": [
    {
     "data": {
      "text/plain": [
       "15869"
      ]
     },
     "execution_count": 57,
     "metadata": {},
     "output_type": "execute_result"
    }
   ],
   "source": [
    "len(filelist)"
   ]
  },
  {
   "cell_type": "code",
   "execution_count": 58,
   "metadata": {
    "collapsed": false
   },
   "outputs": [
    {
     "data": {
      "text/plain": [
       "15868"
      ]
     },
     "metadata": {},
     "output_type": "display_data"
    },
    {
     "data": {
      "text/plain": [
       "'ZZZJ7.png'"
      ]
     },
     "metadata": {},
     "output_type": "display_data"
    }
   ],
   "source": [
    "X ,y = [] ,[]\n",
    "imgpos = [[5,45],[45,85],[85,125],[125,165],[160,200]]\n",
    "for i in range(len(filelist)):\n",
    "    clear_output()\n",
    "    display(i,filelist[i])\n",
    "    image = IM.open(os.getcwd()+'\\ocrdata\\%s'%filelist[i])\n",
    "    imgarray = np.asarray(image)\n",
    "    for tid in range(5):\n",
    "        X.append(imgarray[10:50,imgpos[tid][0]:imgpos[tid][1]].reshape(3,40,40))\n",
    "        y.append(filelist[i][tid])"
   ]
  },
  {
   "cell_type": "code",
   "execution_count": 59,
   "metadata": {
    "collapsed": false
   },
   "outputs": [],
   "source": [
    "le = preprocessing.LabelEncoder()\n",
    "le.fit(y)\n",
    "y_encode = le.transform(y)\n",
    "Y = np_utils.to_categorical([[i] for i in y_encode], len(le.classes_))"
   ]
  },
  {
   "cell_type": "code",
   "execution_count": 60,
   "metadata": {
    "collapsed": true
   },
   "outputs": [],
   "source": [
    "split = int(len(X)*0.75)"
   ]
  },
  {
   "cell_type": "code",
   "execution_count": 61,
   "metadata": {
    "collapsed": true
   },
   "outputs": [],
   "source": [
    "X_train = np.array(X[:split])\n",
    "Y_train = np.array(Y[:split])\n",
    "X_test = np.array(X[split:])\n",
    "Y_test = np.array(Y[split:])\n",
    "\n",
    "X_train = X_train.astype('float32')\n",
    "X_test = X_test.astype('float32')\n",
    "X_train /= 255\n",
    "X_test /= 255"
   ]
  },
  {
   "cell_type": "code",
   "execution_count": null,
   "metadata": {
    "collapsed": true
   },
   "outputs": [],
   "source": [
    "img_channels = 3\n",
    "img_rows = 40\n",
    "img_cols = 40\n",
    "batch_size = 32\n",
    "nb_classes = len(le.classes_)\n",
    "nb_epoch = 200\n",
    "\n",
    "model = Sequential()\n",
    "\n",
    "model.add(Convolution2D(32, 3, 3, border_mode='same',\n",
    "                        input_shape=(img_channels, img_rows, img_cols)))\n",
    "model.add(Activation('relu'))\n",
    "model.add(Convolution2D(32, 3, 3))\n",
    "model.add(Activation('relu'))\n",
    "model.add(MaxPooling2D(pool_size=(2, 2)))\n",
    "model.add(Dropout(0.25))\n",
    "\n",
    "model.add(Convolution2D(64, 3, 3, border_mode='same'))\n",
    "model.add(Activation('relu'))\n",
    "model.add(Convolution2D(64, 3, 3))\n",
    "model.add(Activation('relu'))\n",
    "model.add(MaxPooling2D(pool_size=(2, 2)))\n",
    "model.add(Dropout(0.25))\n",
    "\n",
    "model.add(Flatten())\n",
    "model.add(Dense(512))\n",
    "model.add(Activation('relu'))\n",
    "model.add(Dropout(0.5))\n",
    "model.add(Dense(nb_classes))\n",
    "model.add(Activation('softmax'))"
   ]
  },
  {
   "cell_type": "code",
   "execution_count": 62,
   "metadata": {
    "collapsed": false
   },
   "outputs": [],
   "source": [
    "model = model_from_json(open('cnn_captcha.json').read())\n",
    "model.load_weights('TWSE_captcha_weights.h5')\n",
    "\n",
    "sgd = SGD(lr=0.01, decay=1e-6, momentum=0.9, nesterov=True)\n",
    "model.compile(loss='categorical_crossentropy',\n",
    "              optimizer=sgd,\n",
    "              metrics=['accuracy'])"
   ]
  },
  {
   "cell_type": "code",
   "execution_count": 63,
   "metadata": {
    "collapsed": true
   },
   "outputs": [],
   "source": [
    "batch_size = 32\n",
    "nb_classes = len(le.classes_)\n",
    "nb_epoch = 50"
   ]
  },
  {
   "cell_type": "code",
   "execution_count": 64,
   "metadata": {
    "collapsed": false
   },
   "outputs": [
    {
     "name": "stdout",
     "output_type": "stream",
     "text": [
      "Train on 59508 samples, validate on 19837 samples\n",
      "Epoch 1/50\n",
      "59508/59508 [==============================] - 102s - loss: 0.0769 - acc: 0.9808 - val_loss: 0.0580 - val_acc: 0.9898\n",
      "Epoch 2/50\n",
      "59508/59508 [==============================] - 102s - loss: 0.0552 - acc: 0.9870 - val_loss: 0.0634 - val_acc: 0.9879\n",
      "Epoch 3/50\n",
      "59508/59508 [==============================] - 101s - loss: 0.0467 - acc: 0.9892 - val_loss: 0.0502 - val_acc: 0.9916\n",
      "Epoch 4/50\n",
      "59508/59508 [==============================] - 102s - loss: 0.0409 - acc: 0.9908 - val_loss: 0.0446 - val_acc: 0.9935\n",
      "Epoch 5/50\n",
      "59508/59508 [==============================] - 102s - loss: 0.0370 - acc: 0.9923 - val_loss: 0.0585 - val_acc: 0.9903\n",
      "Epoch 6/50\n",
      "59508/59508 [==============================] - 102s - loss: 0.0348 - acc: 0.9928 - val_loss: 0.0431 - val_acc: 0.9941\n",
      "Epoch 7/50\n",
      "59508/59508 [==============================] - 101s - loss: 0.0321 - acc: 0.9933 - val_loss: 0.0476 - val_acc: 0.9932\n",
      "Epoch 8/50\n",
      "59508/59508 [==============================] - 101s - loss: 0.0340 - acc: 0.9927 - val_loss: 0.0488 - val_acc: 0.9921\n",
      "Epoch 9/50\n",
      "59508/59508 [==============================] - 101s - loss: 0.0349 - acc: 0.9930 - val_loss: 0.0494 - val_acc: 0.9934\n",
      "Epoch 10/50\n",
      "59508/59508 [==============================] - 101s - loss: 0.0284 - acc: 0.9944 - val_loss: 0.0473 - val_acc: 0.9941\n",
      "Epoch 11/50\n",
      "59508/59508 [==============================] - 101s - loss: 0.0276 - acc: 0.9947 - val_loss: 0.0524 - val_acc: 0.9922\n",
      "Epoch 12/50\n",
      "59508/59508 [==============================] - 103s - loss: 0.0322 - acc: 0.9935 - val_loss: 0.0494 - val_acc: 0.9927\n",
      "Epoch 13/50\n",
      "59508/59508 [==============================] - 103s - loss: 0.0270 - acc: 0.9952 - val_loss: 0.0469 - val_acc: 0.9927\n",
      "Epoch 14/50\n",
      "59508/59508 [==============================] - 102s - loss: 0.0280 - acc: 0.9948 - val_loss: 0.0513 - val_acc: 0.9925\n",
      "Epoch 15/50\n",
      "59508/59508 [==============================] - 103s - loss: 0.0255 - acc: 0.9952 - val_loss: 0.0498 - val_acc: 0.9924\n",
      "Epoch 16/50\n",
      "59508/59508 [==============================] - 103s - loss: 0.0285 - acc: 0.9947 - val_loss: 0.0467 - val_acc: 0.9937\n",
      "Epoch 17/50\n",
      "59508/59508 [==============================] - 102s - loss: 0.0269 - acc: 0.9949 - val_loss: 0.0470 - val_acc: 0.9938\n",
      "Epoch 18/50\n",
      "59508/59508 [==============================] - 103s - loss: 0.0248 - acc: 0.9955 - val_loss: 0.0462 - val_acc: 0.9938\n",
      "Epoch 19/50\n",
      "59508/59508 [==============================] - 102s - loss: 0.0270 - acc: 0.9950 - val_loss: 0.0493 - val_acc: 0.9927\n",
      "Epoch 20/50\n",
      "59508/59508 [==============================] - 103s - loss: 0.0262 - acc: 0.9949 - val_loss: 0.0587 - val_acc: 0.9911\n",
      "Epoch 21/50\n",
      "59508/59508 [==============================] - 102s - loss: 0.0227 - acc: 0.9962 - val_loss: 0.0704 - val_acc: 0.9900\n",
      "Epoch 22/50\n",
      "59508/59508 [==============================] - 102s - loss: 0.0223 - acc: 0.9962 - val_loss: 0.0590 - val_acc: 0.9921\n",
      "Epoch 23/50\n",
      "59508/59508 [==============================] - 102s - loss: 0.0224 - acc: 0.9964 - val_loss: 0.0481 - val_acc: 0.9943\n",
      "Epoch 24/50\n",
      "59508/59508 [==============================] - 102s - loss: 0.0260 - acc: 0.9951 - val_loss: 0.0514 - val_acc: 0.9930\n",
      "Epoch 25/50\n",
      "59508/59508 [==============================] - 102s - loss: 0.0238 - acc: 0.9958 - val_loss: 0.0562 - val_acc: 0.9927\n",
      "Epoch 26/50\n",
      "59508/59508 [==============================] - 102s - loss: 0.0228 - acc: 0.9959 - val_loss: 0.0549 - val_acc: 0.9930\n",
      "Epoch 27/50\n",
      "59508/59508 [==============================] - 102s - loss: 0.0263 - acc: 0.9952 - val_loss: 0.0586 - val_acc: 0.9917\n",
      "Epoch 28/50\n",
      "59508/59508 [==============================] - 103s - loss: 0.0225 - acc: 0.9962 - val_loss: 0.0530 - val_acc: 0.9922\n",
      "Epoch 29/50\n",
      "59508/59508 [==============================] - 103s - loss: 0.0215 - acc: 0.9963 - val_loss: 0.0469 - val_acc: 0.9939\n",
      "Epoch 30/50\n",
      "59508/59508 [==============================] - 106s - loss: 0.0222 - acc: 0.9963 - val_loss: 0.0562 - val_acc: 0.9927\n",
      "Epoch 31/50\n",
      "59508/59508 [==============================] - 105s - loss: 0.0229 - acc: 0.9961 - val_loss: 0.0589 - val_acc: 0.9912\n",
      "Epoch 32/50\n",
      "59508/59508 [==============================] - 105s - loss: 0.0207 - acc: 0.9966 - val_loss: 0.0474 - val_acc: 0.9942\n",
      "Epoch 33/50\n",
      "59508/59508 [==============================] - 105s - loss: 0.0230 - acc: 0.9961 - val_loss: 0.0441 - val_acc: 0.9946\n",
      "Epoch 34/50\n",
      "59508/59508 [==============================] - 105s - loss: 0.0226 - acc: 0.9961 - val_loss: 0.0472 - val_acc: 0.9945\n",
      "Epoch 35/50\n",
      "59508/59508 [==============================] - 105s - loss: 0.0218 - acc: 0.9964 - val_loss: 0.0507 - val_acc: 0.9931\n",
      "Epoch 36/50\n",
      "59508/59508 [==============================] - 105s - loss: 0.0223 - acc: 0.9962 - val_loss: 0.0528 - val_acc: 0.9933\n",
      "Epoch 37/50\n",
      "59508/59508 [==============================] - 105s - loss: 0.0213 - acc: 0.9965 - val_loss: 0.0466 - val_acc: 0.9943\n",
      "Epoch 38/50\n",
      "59508/59508 [==============================] - 105s - loss: 0.0186 - acc: 0.9971 - val_loss: 0.0441 - val_acc: 0.9946\n",
      "Epoch 39/50\n",
      "59508/59508 [==============================] - 105s - loss: 0.0207 - acc: 0.9967 - val_loss: 0.0725 - val_acc: 0.9908\n",
      "Epoch 40/50\n",
      "59508/59508 [==============================] - 105s - loss: 0.0220 - acc: 0.9963 - val_loss: 0.0599 - val_acc: 0.9921\n",
      "Epoch 41/50\n",
      "59508/59508 [==============================] - 105s - loss: 0.0225 - acc: 0.9962 - val_loss: 0.0513 - val_acc: 0.9935\n",
      "Epoch 42/50\n",
      "59508/59508 [==============================] - 104s - loss: 0.0213 - acc: 0.9965 - val_loss: 0.0417 - val_acc: 0.9945\n",
      "Epoch 43/50\n",
      "59508/59508 [==============================] - 104s - loss: 0.0211 - acc: 0.9967 - val_loss: 0.0488 - val_acc: 0.9935\n",
      "Epoch 44/50\n",
      "59508/59508 [==============================] - 104s - loss: 0.0209 - acc: 0.9967 - val_loss: 0.0514 - val_acc: 0.9931\n",
      "Epoch 45/50\n",
      "59508/59508 [==============================] - 104s - loss: 0.0185 - acc: 0.9971 - val_loss: 0.0559 - val_acc: 0.9934\n",
      "Epoch 46/50\n",
      "59508/59508 [==============================] - 104s - loss: 0.0188 - acc: 0.9973 - val_loss: 0.0460 - val_acc: 0.9942\n",
      "Epoch 47/50\n",
      "59508/59508 [==============================] - 104s - loss: 0.0170 - acc: 0.9976 - val_loss: 0.0469 - val_acc: 0.9945\n",
      "Epoch 48/50\n",
      "59508/59508 [==============================] - 104s - loss: 0.0170 - acc: 0.9977 - val_loss: 0.0474 - val_acc: 0.9945\n",
      "Epoch 49/50\n",
      "59508/59508 [==============================] - 105s - loss: 0.0215 - acc: 0.9963 - val_loss: 0.0454 - val_acc: 0.9950\n",
      "Epoch 50/50\n",
      "59508/59508 [==============================] - 105s - loss: 0.0192 - acc: 0.9972 - val_loss: 0.0568 - val_acc: 0.9932\n"
     ]
    },
    {
     "data": {
      "text/plain": [
       "<keras.callbacks.History at 0x62054710>"
      ]
     },
     "execution_count": 64,
     "metadata": {},
     "output_type": "execute_result"
    }
   ],
   "source": [
    "model.fit(X_train, Y_train,\n",
    "              batch_size=batch_size,\n",
    "              nb_epoch=nb_epoch,\n",
    "              validation_data=(X_test, Y_test),\n",
    "              shuffle=True)"
   ]
  },
  {
   "cell_type": "code",
   "execution_count": 65,
   "metadata": {
    "collapsed": false
   },
   "outputs": [
    {
     "name": "stdout",
     "output_type": "stream",
     "text": [
      "Test score: 0.056824512657\n",
      "Test accuracy: 0.993194535464\n"
     ]
    }
   ],
   "source": [
    "score = model.evaluate(X_test, Y_test, verbose=0)\n",
    "print('Test score:', score[0])\n",
    "print('Test accuracy:', score[1])"
   ]
  },
  {
   "cell_type": "code",
   "execution_count": 66,
   "metadata": {
    "collapsed": false
   },
   "outputs": [
    {
     "name": "stdout",
     "output_type": "stream",
     "text": [
      "[WARNING] TWSE_captcha_weights.h5 already exists - overwrite? [y/n]y\n",
      "[TIP] Next time specify overwrite=True in save_weights!\n"
     ]
    }
   ],
   "source": [
    "json_string = model.to_json()\n",
    "open('cnn_captcha.json', 'w').write(json_string)\n",
    "model.save_weights('TWSE_captcha_weights.h5')"
   ]
  },
  {
   "cell_type": "code",
   "execution_count": null,
   "metadata": {
    "collapsed": true
   },
   "outputs": [],
   "source": []
  }
 ],
 "metadata": {
  "kernelspec": {
   "display_name": "Python 3",
   "language": "python",
   "name": "python3"
  },
  "language_info": {
   "codemirror_mode": {
    "name": "ipython",
    "version": 3
   },
   "file_extension": ".py",
   "mimetype": "text/x-python",
   "name": "python",
   "nbconvert_exporter": "python",
   "pygments_lexer": "ipython3",
   "version": "3.4.1"
  }
 },
 "nbformat": 4,
 "nbformat_minor": 0
}
